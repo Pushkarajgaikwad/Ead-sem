{
 "cells": [
  {
   "cell_type": "code",
   "execution_count": 1,
   "id": "802b7460-bf7b-41b3-a42b-15d553cac970",
   "metadata": {},
   "outputs": [
    {
     "name": "stdout",
     "output_type": "stream",
     "text": [
      "model_v1: 0.9667\n",
      "model_v2: 0.9667\n"
     ]
    }
   ],
   "source": [
    "import pickle\n",
    "from sklearn.datasets import load_iris\n",
    "from sklearn.model_selection import train_test_split\n",
    "from sklearn.metrics import accuracy_score\n",
    "from sklearn.tree import DecisionTreeClassifier\n",
    "\n",
    "iris = load_iris()\n",
    "x=iris.data\n",
    "y=iris.target\n",
    "x_train,x_test,y_train,y_test=train_test_split(x,y,test_size=0.2,random_state=42)\n",
    "\n",
    "model_v1=DecisionTreeClassifier(max_depth=2)\n",
    "model_v1.fit(x_train,y_train)\n",
    "y_pred_v1=model_v1.predict(x_test)\n",
    "accuracy_v1=accuracy_score(y_test,y_pred_v1)\n",
    "with open('model_v1.pkl','wb') as file:\n",
    "    pickle.dump(model_v1,file)\n",
    "\n",
    "model_v2=DecisionTreeClassifier(max_depth=4)\n",
    "model_v2.fit(x_train,y_train)\n",
    "y_pred_v2=model_v1.predict(x_test)\n",
    "accuracy_v2=accuracy_score(y_test,y_pred_v1)\n",
    "\n",
    "with open('model_v2.pkl','wb') as file:\n",
    "    pickle.dump(model_v2,file)\n",
    "\n",
    "print(f\"model_v1: {accuracy_v1:.4f}\")\n",
    "print(f\"model_v2: {accuracy_v2:.4f}\")"
   ]
  },
  {
   "cell_type": "code",
   "execution_count": null,
   "id": "4c42248b-49f6-4e2e-8edb-7559a72611ee",
   "metadata": {},
   "outputs": [],
   "source": []
  }
 ],
 "metadata": {
  "kernelspec": {
   "display_name": "Python 3 (ipykernel)",
   "language": "python",
   "name": "python3"
  },
  "language_info": {
   "codemirror_mode": {
    "name": "ipython",
    "version": 3
   },
   "file_extension": ".py",
   "mimetype": "text/x-python",
   "name": "python",
   "nbconvert_exporter": "python",
   "pygments_lexer": "ipython3",
   "version": "3.12.7"
  }
 },
 "nbformat": 4,
 "nbformat_minor": 5
}
